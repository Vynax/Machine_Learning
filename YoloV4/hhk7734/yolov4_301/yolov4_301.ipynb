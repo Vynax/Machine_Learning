{
 "cells": [
  {
   "cell_type": "code",
   "execution_count": 3,
   "metadata": {
    "scrolled": true
   },
   "outputs": [
    {
     "name": "stdout",
     "output_type": "stream",
     "text": [
      "INFO:tensorflow:Assets written to: /tmp/tmpvn8sbmhh/assets\n"
     ]
    },
    {
     "name": "stderr",
     "output_type": "stream",
     "text": [
      "WARNING:absl:Please consider switching to the new converter by setting experimental_new_converter=True. The old converter (TOCO) is deprecated.\n"
     ]
    }
   ],
   "source": [
    "from yolov4.tf import YOLOv4, YOLODataset, save_as_tflite\n",
    "\n",
    "yolo = YOLOv4()\n",
    "\n",
    "yolo.config.parse_names(\"test/dataset/coco.names\")\n",
    "yolo.config.parse_cfg(\"config/yolov4-tiny-relu-tpu.cfg\")\n",
    "\n",
    "yolo.make_model()\n",
    "yolo.load_weights(\n",
    "    \"yolov4-tiny-relu.weights\", weights_type=\"yolo\"\n",
    ")\n",
    "\n",
    "dataset = YOLODataset(\n",
    "    config=yolo.config,\n",
    "    dataset_list=\"test/dataset/val2017.txt\",\n",
    "    image_path_prefix=\"/home/css-wu/CloudStation/Data/val2017\",\n",
    "    training=False,\n",
    ")\n",
    "\n",
    "save_as_tflite(\n",
    "    model=yolo.model,\n",
    "    tflite_path=\"yolov4-tiny-relu-int8.tflite\",\n",
    "    quantization=\"full_int8\",\n",
    "    dataset=dataset,\n",
    ")"
   ]
  },
  {
   "cell_type": "code",
   "execution_count": 4,
   "metadata": {
    "scrolled": false
   },
   "outputs": [
    {
     "name": "stdout",
     "output_type": "stream",
     "text": [
      "Edge TPU Compiler version 15.0.340273435\n",
      "\n",
      "Model compiled successfully in 682 ms.\n",
      "\n",
      "Input model: yolov4-tiny-relu-int8.tflite\n",
      "Input size: 5.91MiB\n",
      "Output model: yolov4-tiny-relu-int8_edgetpu.tflite\n",
      "Output size: 5.98MiB\n",
      "On-chip memory used for caching model parameters: 5.83MiB\n",
      "On-chip memory remaining for caching model parameters: 1.78MiB\n",
      "Off-chip memory used for streaming uncached model parameters: 0.00B\n",
      "Number of Edge TPU subgraphs: 2\n",
      "Total number of operations: 51\n",
      "Operation log: yolov4-tiny-relu-int8_edgetpu.log\n",
      "\n",
      "Model successfully compiled but not all operations are supported by the Edge TPU. A percentage of the model will instead run on the CPU, which is slower. If possible, consider updating your model to use only operations supported by the Edge TPU. For details, visit g.co/coral/model-reqs.\n",
      "Number of operations that will run on Edge TPU: 46\n",
      "Number of operations that will run on CPU: 5\n",
      "\n",
      "Operator                       Count      Status\n",
      "\n",
      "SPLIT                          3          Mapped to Edge TPU\n",
      "MAX_POOL_2D                    3          Mapped to Edge TPU\n",
      "DEQUANTIZE                     4          Operation is working on an unsupported data type\n",
      "RESIZE_BILINEAR                1          Operation version not supported\n",
      "QUANTIZE                       8          Mapped to Edge TPU\n",
      "LOGISTIC                       2          Mapped to Edge TPU\n",
      "CONV_2D                        21         Mapped to Edge TPU\n",
      "CONCATENATION                  7          Mapped to Edge TPU\n",
      "PAD                            2          Mapped to Edge TPU\n"
     ]
    }
   ],
   "source": [
    "!edgetpu_compiler -sa yolov4-tiny-relu-int8.tflite"
   ]
  },
  {
   "cell_type": "code",
   "execution_count": 3,
   "metadata": {},
   "outputs": [
    {
     "name": "stdout",
     "output_type": "stream",
     "text": [
      "batch: 32\n",
      "index layer No. filters  size/strd(dil)   input_shape         output_shape    1e9 flops\n",
      "   0  convo_0      32      3 x 3 / 2      416 x 416 x   3 ->  208 x 208 x  32   0.075\n",
      "   1  convo_1      64      3 x 3 / 2      208 x 208 x  32 ->  104 x 104 x  64   0.399\n",
      "   2  convo_2      64      3 x 3 / 1      104 x 104 x  64 ->  104 x 104 x  64   0.797\n",
      "   3  route_0       2,                                    ->  104 x 104 x  32\n",
      "   4  convo_3      32      3 x 3 / 1      104 x 104 x  32 ->  104 x 104 x  32   0.199\n",
      "   5  convo_4      32      3 x 3 / 1      104 x 104 x  32 ->  104 x 104 x  32   0.199\n",
      "   6  route_1       5,  4,                                ->  104 x 104 x  64\n",
      "   7  convo_5      64      1 x 1 / 1      104 x 104 x  64 ->  104 x 104 x  64   0.089\n",
      "   8  route_2       2,  7,                                ->  104 x 104 x 128\n",
      "   9  maxpo_0              2 x 2 / 2      104 x 104 x 128 ->   52 x  52 x 128   0.001\n",
      "  10  convo_6     128      3 x 3 / 1       52 x  52 x 128 ->   52 x  52 x 128   0.797\n",
      "  11  route_3      10,                                    ->   52 x  52 x  64\n",
      "  12  convo_7      64      3 x 3 / 1       52 x  52 x  64 ->   52 x  52 x  64   0.199\n",
      "  13  convo_8      64      3 x 3 / 1       52 x  52 x  64 ->   52 x  52 x  64   0.199\n",
      "  14  route_4      13, 12,                                ->   52 x  52 x 128\n",
      "  15  convo_9     128      1 x 1 / 1       52 x  52 x 128 ->   52 x  52 x 128   0.089\n",
      "  16  route_5      10, 15,                                ->   52 x  52 x 256\n",
      "  17  maxpo_1              2 x 2 / 2       52 x  52 x 256 ->   26 x  26 x 256   0.001\n",
      "  18  convo_10    256      3 x 3 / 1       26 x  26 x 256 ->   26 x  26 x 256   0.797\n",
      "  19  route_6      18,                                    ->   26 x  26 x 128\n",
      "  20  convo_11    128      3 x 3 / 1       26 x  26 x 128 ->   26 x  26 x 128   0.199\n",
      "  21  convo_12    128      3 x 3 / 1       26 x  26 x 128 ->   26 x  26 x 128   0.199\n",
      "  22  route_7      21, 20,                                ->   26 x  26 x 256\n",
      "  23  convo_13    256      1 x 1 / 1       26 x  26 x 256 ->   26 x  26 x 256   0.089\n",
      "  24  route_8      18, 23,                                ->   26 x  26 x 512\n",
      "  25  maxpo_2              2 x 2 / 2       26 x  26 x 512 ->   13 x  13 x 512   0.000\n",
      "  26  convo_14    512      3 x 3 / 1       13 x  13 x 512 ->   13 x  13 x 512   0.797\n",
      "  27  convo_15    256      1 x 1 / 1       13 x  13 x 512 ->   13 x  13 x 256   0.044\n",
      "  28  convo_16    512      3 x 3 / 1       13 x  13 x 256 ->   13 x  13 x 512   0.399\n",
      "  29  convo_17    255      1 x 1 / 1       13 x  13 x 512 ->   13 x  13 x 255   0.044\n",
      "  30  yolo__0    iou_loss: ciou, iou_norm: 0.7, obj_norm: 1.0, cls_norm: 1.0, \n",
      "                 scale_x_y: 1.05\n",
      "  31  route_9      27,                                    ->   13 x  13 x 256\n",
      "  32  convo_18    128      1 x 1 / 1       13 x  13 x 256 ->   13 x  13 x 128   0.011\n",
      "  33  upsam_0                      2x      13 x  13 x 128 ->   26 x  26 x 128  \n",
      "  34  route_10     33, 23,                                ->   26 x  26 x 384\n",
      "  35  convo_19    256      3 x 3 / 1       26 x  26 x 384 ->   26 x  26 x 256   1.196\n",
      "  36  convo_20    255      1 x 1 / 1       26 x  26 x 256 ->   26 x  26 x 255   0.088\n",
      "  37  yolo__1    iou_loss: ciou, iou_norm: 0.7, obj_norm: 1.0, cls_norm: 1.0, \n",
      "                 scale_x_y: 1.05\n",
      "Total B(1e9)flops:  6.910\n",
      "YOLOv4: Inference is finished\n"
     ]
    }
   ],
   "source": [
    "import cv2\n",
    "\n",
    "from yolov4.tflite import YOLOv4\n",
    "\n",
    "yolo = YOLOv4()\n",
    "\n",
    "yolo.config.parse_names(\"/home/css-wu/CloudStation/Data/coco/classes/coco.names\")\n",
    "yolo.config.parse_cfg(\"config/yolov4-tiny-relu-tpu.cfg\")\n",
    "\n",
    "yolo.summary()\n",
    "\n",
    "yolo.load_tflite(\"yolov4-tiny-relu-int8_edgetpu.tflite\")\n",
    "\n",
    "yolo.inference(\n",
    "    \"/home/css-wu/CloudStation/Data/cam6.mp4\",\n",
    "    is_image=False,\n",
    "    cv_apiPreference=cv2.CAP_ANY,\n",
    "    cv_frame_size=(1920, 1080),\n",
    "    cv_fourcc=\"YUYV\",\n",
    ")"
   ]
  },
  {
   "cell_type": "code",
   "execution_count": null,
   "metadata": {},
   "outputs": [],
   "source": []
  }
 ],
 "metadata": {
  "kernelspec": {
   "display_name": "Python 3",
   "language": "python",
   "name": "python3"
  },
  "language_info": {
   "codemirror_mode": {
    "name": "ipython",
    "version": 3
   },
   "file_extension": ".py",
   "mimetype": "text/x-python",
   "name": "python",
   "nbconvert_exporter": "python",
   "pygments_lexer": "ipython3",
   "version": "3.8.5"
  }
 },
 "nbformat": 4,
 "nbformat_minor": 4
}
