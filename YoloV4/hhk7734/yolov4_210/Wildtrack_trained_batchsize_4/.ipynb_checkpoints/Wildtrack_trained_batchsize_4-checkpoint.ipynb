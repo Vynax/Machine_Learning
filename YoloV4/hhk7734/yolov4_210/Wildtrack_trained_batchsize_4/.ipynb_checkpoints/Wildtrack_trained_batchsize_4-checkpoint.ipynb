{
 "cells": [
  {
   "cell_type": "code",
   "execution_count": 5,
   "metadata": {},
   "outputs": [
    {
     "name": "stdout",
     "output_type": "stream",
     "text": [
      "['README.md', '.gitignore', 'AI', '.git', 'EfficientDet', 'YoloV4']\n",
      "['darknet', 'tensorflow-yolov4', 'NVIDIA Nsight Compute', 'NVIDIA Nsight Systems', 'Machine_Learning']\n"
     ]
    },
    {
     "ename": "FileNotFoundError",
     "evalue": "[Errno 2] No such file or directory: 'Wildtrack_trained_batchsize_4'",
     "output_type": "error",
     "traceback": [
      "\u001b[0;31m---------------------------------------------------------------------------\u001b[0m",
      "\u001b[0;31mFileNotFoundError\u001b[0m                         Traceback (most recent call last)",
      "\u001b[0;32m<ipython-input-5-38679c383447>\u001b[0m in \u001b[0;36m<module>\u001b[0;34m\u001b[0m\n\u001b[1;32m      5\u001b[0m \u001b[0;32mfrom\u001b[0m \u001b[0myolov4_210\u001b[0m\u001b[0;34m.\u001b[0m\u001b[0mpy_src\u001b[0m\u001b[0;34m.\u001b[0m\u001b[0myolov4\u001b[0m\u001b[0;34m.\u001b[0m\u001b[0mtf\u001b[0m \u001b[0;32mimport\u001b[0m \u001b[0mSaveWeightsCallback\u001b[0m\u001b[0;34m,\u001b[0m \u001b[0mYOLOv4\u001b[0m\u001b[0;34m\u001b[0m\u001b[0;34m\u001b[0m\u001b[0m\n\u001b[1;32m      6\u001b[0m \u001b[0mprint\u001b[0m\u001b[0;34m(\u001b[0m\u001b[0mos\u001b[0m\u001b[0;34m.\u001b[0m\u001b[0mlistdir\u001b[0m\u001b[0;34m(\u001b[0m\u001b[0;34m)\u001b[0m\u001b[0;34m)\u001b[0m\u001b[0;34m\u001b[0m\u001b[0;34m\u001b[0m\u001b[0m\n\u001b[0;32m----> 7\u001b[0;31m \u001b[0mos\u001b[0m\u001b[0;34m.\u001b[0m\u001b[0mchdir\u001b[0m\u001b[0;34m(\u001b[0m\u001b[0;34m\"Wildtrack_trained_batchsize_4\"\u001b[0m\u001b[0;34m)\u001b[0m\u001b[0;34m\u001b[0m\u001b[0;34m\u001b[0m\u001b[0m\n\u001b[0m\u001b[1;32m      8\u001b[0m \u001b[0;32mimport\u001b[0m \u001b[0mtime\u001b[0m\u001b[0;34m\u001b[0m\u001b[0;34m\u001b[0m\u001b[0m\n\u001b[1;32m      9\u001b[0m \u001b[0;34m\u001b[0m\u001b[0m\n",
      "\u001b[0;31mFileNotFoundError\u001b[0m: [Errno 2] No such file or directory: 'Wildtrack_trained_batchsize_4'"
     ]
    }
   ],
   "source": [
    "from tensorflow.keras import callbacks, optimizers\n",
    "import os\n",
    "print(os.listdir())\n",
    "os.chdir(\"..\")\n",
    "from yolov4_210.py_src.yolov4.tf import SaveWeightsCallback, YOLOv4\n",
    "print(os.listdir())\n",
    "os.chdir(\"Wildtrack_trained_batchsize_4\")\n",
    "import time\n",
    "\n",
    "yolo = YOLOv4(tiny=True)\n",
    "yolo.classes = \"/home/css-wu/Documents/Machine_Learning/YoloV4/hhk7734/Wildtrack.names\"\n",
    "yolo.input_size = 608\n",
    "yolo.batch_size = 4\n",
    "\n",
    "yolo.make_model(activation1=\"relu\")\n",
    "yolo.load_weights(\n",
    "    \"/home/css-wu/Documents/Machine_Learning/YoloV4/hhk7734/yolov4-tiny.conv.29\",\n",
    "    weights_type=\"yolo\"\n",
    ")\n",
    "\n",
    "train_data_set = yolo.load_dataset(\n",
    "    \"/home/css-wu/Documents/Machine_Learning/YoloV4/hhk7734/wild_train.txt\",\n",
    "    image_path_prefix=\"/home/css-wu/CloudStation/Data/Wildtrack_dataset_full/Wildtrack_dataset/Image_subsets/JPG\",\n",
    "    label_smoothing=0.05\n",
    ")\n",
    "val_data_set = yolo.load_dataset(\n",
    "    \"/home/css-wu/Documents/Machine_Learning/YoloV4/hhk7734/wild_val.txt\",\n",
    "    image_path_prefix=\"/home/css-wu/CloudStation/Data/Wildtrack_dataset_full/Wildtrack_dataset/Image_subsets/JPG\",\n",
    "    training=False\n",
    ")\n",
    "\n",
    "epochs = 400\n",
    "lr = 1e-4\n",
    "\n",
    "optimizer = optimizers.Adam(learning_rate=lr)\n",
    "yolo.compile(optimizer=optimizer, loss_iou_type=\"ciou\")\n",
    "\n",
    "def lr_scheduler(epoch):\n",
    "    if epoch < int(epochs * 0.5):\n",
    "        return lr\n",
    "    if epoch < int(epochs * 0.8):\n",
    "        return lr * 0.5\n",
    "    if epoch < int(epochs * 0.9):\n",
    "        return lr * 0.1\n",
    "    return lr * 0.01\n",
    "\n",
    "_callbacks = [\n",
    "    callbacks.LearningRateScheduler(lr_scheduler),\n",
    "    callbacks.TerminateOnNaN(),\n",
    "    callbacks.TensorBoard(\n",
    "        log_dir=\"/home/css-wu/Documents/Machine_Learning/YoloV4/hhk7734/yolov4_210/Wildtrack_trained_batchsize_4/logs\",\n",
    "    ),\n",
    "    SaveWeightsCallback(\n",
    "        yolo=yolo, dir_path=\"/home/css-wu/Documents/Machine_Learning/YoloV4/hhk7734/yolov4_210/Wildtrack_trained_batchsize_4/trained\",\n",
    "        weights_type=\"yolo\", epoch_per_save=10\n",
    "    ),\n",
    "]\n",
    "\n",
    "yolo.fit(\n",
    "    train_data_set,\n",
    "    epochs=epochs,\n",
    "    callbacks=_callbacks,\n",
    "    validation_data=val_data_set,\n",
    "    validation_steps=50,\n",
    "    validation_freq=5,\n",
    "    steps_per_epoch=100,\n",
    ")"
   ]
  },
  {
   "cell_type": "code",
   "execution_count": null,
   "metadata": {},
   "outputs": [],
   "source": []
  }
 ],
 "metadata": {
  "kernelspec": {
   "display_name": "Python 3",
   "language": "python",
   "name": "python3"
  },
  "language_info": {
   "codemirror_mode": {
    "name": "ipython",
    "version": 3
   },
   "file_extension": ".py",
   "mimetype": "text/x-python",
   "name": "python",
   "nbconvert_exporter": "python",
   "pygments_lexer": "ipython3",
   "version": "3.8.5"
  }
 },
 "nbformat": 4,
 "nbformat_minor": 4
}
