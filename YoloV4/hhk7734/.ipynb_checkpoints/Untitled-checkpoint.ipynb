{
 "cells": [
  {
   "cell_type": "code",
   "execution_count": 2,
   "metadata": {
    "scrolled": true
   },
   "outputs": [
    {
     "name": "stdout",
     "output_type": "stream",
     "text": [
      "INFO:tensorflow:Assets written to: /tmp/tmpqqdg8kem/assets\n"
     ]
    },
    {
     "name": "stderr",
     "output_type": "stream",
     "text": [
      "WARNING:absl:Please consider switching to the new converter by setting experimental_new_converter=True. The old converter (TOCO) is deprecated.\n"
     ]
    }
   ],
   "source": [
    "from yolov4.tf import YOLOv4\n",
    "\n",
    "yolo = YOLOv4(tiny=True, tpu=True)\n",
    "\n",
    "yolo.classes = \"/home/user/Documents/CloudStation/hhk7734/tensorflow-yolov4/test/dataset/coco.names\"\n",
    "yolo.input_size = (512, 384) # width, height\n",
    "yolo.make_model(activation1=\"relu\")\n",
    "\n",
    "yolo.load_weights(\"yolov4-tiny-relu.weights\", weights_type=\"yolo\")\n",
    "\n",
    "dataset = yolo.load_dataset(\n",
    "    \"/home/user/Documents/CloudStation/hhk7734/tensorflow-yolov4/test/dataset/train2017.txt\",\n",
    "    training=False,\n",
    "    image_path_prefix=\"/home/user/Documents/CloudStation/Data/train2017\"\n",
    ")\n",
    "\n",
    "yolo.save_as_tflite(\n",
    "    \"yolov4-tiny-relu-int8.tflite\",\n",
    "    quantization=\"full_int8\",\n",
    "    data_set=dataset,\n",
    "    num_calibration_steps=400\n",
    ")"
   ]
  },
  {
   "cell_type": "code",
   "execution_count": 3,
   "metadata": {
    "scrolled": false
   },
   "outputs": [
    {
     "name": "stdout",
     "output_type": "stream",
     "text": [
      "Edge TPU Compiler version 15.0.340273435\n",
      "\n",
      "Model compiled successfully in 947 ms.\n",
      "\n",
      "Input model: yolov4-tiny-relu-int8.tflite\n",
      "Input size: 5.94MiB\n",
      "Output model: yolov4-tiny-relu-int8_edgetpu.tflite\n",
      "Output size: 6.33MiB\n",
      "On-chip memory used for caching model parameters: 6.06MiB\n",
      "On-chip memory remaining for caching model parameters: 1.66MiB\n",
      "Off-chip memory used for streaming uncached model parameters: 3.38KiB\n",
      "Number of Edge TPU subgraphs: 3\n",
      "Total number of operations: 132\n",
      "Operation log: yolov4-tiny-relu-int8_edgetpu.log\n",
      "\n",
      "Model successfully compiled but not all operations are supported by the Edge TPU. A percentage of the model will instead run on the CPU, which is slower. If possible, consider updating your model to use only operations supported by the Edge TPU. For details, visit g.co/coral/model-reqs.\n",
      "Number of operations that will run on Edge TPU: 101\n",
      "Number of operations that will run on CPU: 31\n",
      "\n",
      "Operator                       Count      Status\n",
      "\n",
      "ADD                            6          Mapped to Edge TPU\n",
      "LOGISTIC                       2          Mapped to Edge TPU\n",
      "MAX_POOL_2D                    3          Mapped to Edge TPU\n",
      "PAD                            2          Mapped to Edge TPU\n",
      "EXP                            6          Operation is working on an unsupported data type\n",
      "QUANTIZE                       6          Operation is otherwise supported, but not mapped due to some unspecified limitation\n",
      "QUANTIZE                       27         Mapped to Edge TPU\n",
      "CONV_2D                        21         Mapped to Edge TPU\n",
      "DEQUANTIZE                     6          Operation is working on an unsupported data type\n",
      "RESIZE_BILINEAR                1          Operation version not supported\n",
      "SPLIT                          7          Mapped to Edge TPU\n",
      "CONCATENATION                  9          Mapped to Edge TPU\n",
      "MUL                            18         Mapped to Edge TPU\n",
      "SPLIT_V                        12         Operation not supported\n",
      "SUB                            6          Mapped to Edge TPU\n"
     ]
    }
   ],
   "source": [
    "!edgetpu_compiler -sa yolov4-tiny-relu-int8.tflite"
   ]
  },
  {
   "cell_type": "code",
   "execution_count": 1,
   "metadata": {},
   "outputs": [
    {
     "name": "stdout",
     "output_type": "stream",
     "text": [
      "Edge TPU Compiler version 15.0.340273435\n",
      "Invalid model: yolov4-tiny-relu-int8_edgetpu.tflite\n",
      "Model already compiled for Edge TPU\n"
     ]
    }
   ],
   "source": [
    "!edgetpu_compiler yolov4-tiny-relu-int8_edgetpu.tflite"
   ]
  },
  {
   "cell_type": "code",
   "execution_count": 7,
   "metadata": {},
   "outputs": [
    {
     "name": "stdout",
     "output_type": "stream",
     "text": [
      "YOLOv4: Inference is finished\n"
     ]
    }
   ],
   "source": [
    "from yolov4_210.py_src.yolov4.tflite import YOLOv4\n",
    "import cv2\n",
    "\n",
    "yolo = YOLOv4(tiny=True, tpu=True)\n",
    "\n",
    "yolo.classes = \"/home/user/Documents/CloudStation/hhk7734/tensorflow-yolov4/test/dataset/coco.names\"\n",
    "\n",
    "yolo.load_tflite(\"yolov4-tiny-relu-int8_edgetpu.tflite\")\n",
    "\n",
    "yolo.inference(\n",
    "    \"/home/user/Documents/CloudStation/Data/cam6.mp4\",\n",
    "    is_image=False,\n",
    "    cv_apiPreference=cv2.CAP_ANY,\n",
    "    # cv_waitKey_delay= 25,\n",
    "    cv_frame_size=(1920, 1080),\n",
    "    cv_fourcc=\"YUYV\",\n",
    ")"
   ]
  },
  {
   "cell_type": "code",
   "execution_count": null,
   "metadata": {},
   "outputs": [],
   "source": []
  }
 ],
 "metadata": {
  "kernelspec": {
   "display_name": "Python 3",
   "language": "python",
   "name": "python3"
  },
  "language_info": {
   "codemirror_mode": {
    "name": "ipython",
    "version": 3
   },
   "file_extension": ".py",
   "mimetype": "text/x-python",
   "name": "python",
   "nbconvert_exporter": "python",
   "pygments_lexer": "ipython3",
   "version": "3.8.5"
  }
 },
 "nbformat": 4,
 "nbformat_minor": 4
}
